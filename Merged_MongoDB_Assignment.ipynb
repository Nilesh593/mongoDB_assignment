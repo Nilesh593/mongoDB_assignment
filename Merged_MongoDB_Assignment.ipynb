{
 "cells": [
  {
   "cell_type": "markdown",
   "id": "d166cc21",
   "metadata": {},
   "source": [
    "# MongoDB Assignment\n",
    "This notebook contains both theoretical and practical questions related to MongoDB using the Superstore dataset."
   ]
  },
  {
   "cell_type": "markdown",
   "id": "649c17f1",
   "metadata": {},
   "source": [
    "### 1. What are the key differences between SQL and NoSQL databases?\n",
    "- SQL databases are relational, use structured query language, and have fixed schemas.\n",
    "- NoSQL databases are non-relational, support dynamic schemas, and are often used for big data and real-time applications."
   ]
  },
  {
   "cell_type": "markdown",
   "id": "975b4c81",
   "metadata": {},
   "source": [
    "### 2. What makes MongoDB a good choice for modern applications?\n",
    "- Schema-less design\n",
    "- High performance and scalability\n",
    "- Built-in replication and sharding\n",
    "- Powerful querying and indexing features"
   ]
  },
  {
   "cell_type": "markdown",
   "id": "321a840b",
   "metadata": {},
   "source": [
    "### 3. Explain the concept of collections in MongoDB.\n",
    "- A collection is a group of MongoDB documents, similar to a table in SQL databases."
   ]
  },
  {
   "cell_type": "markdown",
   "id": "ce0d5d94",
   "metadata": {},
   "source": [
    "### 4. How does MongoDB ensure high availability using replication?\n",
    "- MongoDB uses replica sets where data is replicated across multiple nodes. One node acts as primary and others as secondary."
   ]
  },
  {
   "cell_type": "markdown",
   "id": "e8622062",
   "metadata": {},
   "source": [
    "### 5. What are the main benefits of MongoDB Atlas?\n",
    "- Fully managed cloud database\n",
    "- Automated backups\n",
    "- Scalability\n",
    "- Security and compliance features\n",
    "- Integrated monitoring and analytics"
   ]
  },
  {
   "cell_type": "markdown",
   "id": "76d88110",
   "metadata": {},
   "source": [
    "### 6. What is the role of indexes in MongoDB, and how do they improve performance?\n",
    "- Indexes support efficient query execution and reduce the amount of data scanned."
   ]
  },
  {
   "cell_type": "markdown",
   "id": "865753cd",
   "metadata": {},
   "source": [
    "### 7. Describe the stages of the MongoDB aggregation pipeline.\n",
    "- $match, $group, $project, $sort, $limit, $lookup, $unwind, etc., process data in a pipeline sequence."
   ]
  },
  {
   "cell_type": "markdown",
   "id": "8a08dcb0",
   "metadata": {},
   "source": [
    "### 8. What is sharding in MongoDB? How does it differ from replication?\n",
    "- Sharding distributes data across multiple servers.\n",
    "- Replication copies data for redundancy and availability."
   ]
  },
  {
   "cell_type": "markdown",
   "id": "4c6f0f0c",
   "metadata": {},
   "source": [
    "### 9. What is PyMongo, and why is it used?\n",
    "- PyMongo is the official MongoDB driver for Python to interact with MongoDB databases."
   ]
  },
  {
   "cell_type": "markdown",
   "id": "6ce585f4",
   "metadata": {},
   "source": [
    "### 10. What are the ACID properties in the context of MongoDB transactions?\n",
    "- Atomicity, Consistency, Isolation, Durability. MongoDB supports multi-document ACID transactions since v4.0."
   ]
  },
  {
   "cell_type": "markdown",
   "id": "a13b24ab",
   "metadata": {},
   "source": [
    "### 12. How does MongoDB handle schema validation?\n",
    "- MongoDB supports schema validation using JSON Schema. You can define required fields, data types, and validation rules using the `$jsonSchema` operator."
   ]
  },
  {
   "cell_type": "markdown",
   "id": "19f573a0",
   "metadata": {},
   "source": [
    "### 13. What is the difference between a primary and a secondary node in a replica set?\n",
    "- The primary node receives all write operations.\n",
    "- Secondary nodes replicate the primary’s data and can serve read operations if configured."
   ]
  },
  {
   "cell_type": "markdown",
   "id": "632df1f9",
   "metadata": {},
   "source": [
    "### 14. What security mechanisms does MongoDB provide for data protection?\n",
    "- Authentication and authorization\n",
    "- Role-Based Access Control (RBAC)\n",
    "- TLS/SSL for encrypted connections\n",
    "- Field-level encryption\n",
    "- Auditing"
   ]
  },
  {
   "cell_type": "markdown",
   "id": "7140d7a2",
   "metadata": {},
   "source": [
    "### 15. Explain the concept of embedded documents and when they should be used.\n",
    "- Embedded documents are nested documents inside another document. Use them for related data that is often queried together to reduce the need for joins."
   ]
  },
  {
   "cell_type": "markdown",
   "id": "3ac5e5b2",
   "metadata": {},
   "source": [
    "### 16. What is the purpose of MongoDB's $lookup stage in aggregation?\n",
    "- `$lookup` performs a left outer join to combine documents from two collections based on a related field."
   ]
  },
  {
   "cell_type": "markdown",
   "id": "304d1bbd",
   "metadata": {},
   "source": [
    "### 17. What are some common use cases for MongoDB?\n",
    "- Content management systems\n",
    "- Real-time analytics\n",
    "- Product catalogs\n",
    "- IoT applications\n",
    "- Mobile apps and personalization engines"
   ]
  },
  {
   "cell_type": "markdown",
   "id": "2ef59bb6",
   "metadata": {},
   "source": [
    "### 18. What are the advantages of using MongoDB for horizontal scaling?\n",
    "- Sharding distributes data across nodes, allowing the database to handle more traffic and larger datasets without performance loss."
   ]
  },
  {
   "cell_type": "markdown",
   "id": "5c470481",
   "metadata": {},
   "source": [
    "### 19. How do MongoDB transactions differ from SQL transactions?\n",
    "- MongoDB supports multi-document ACID transactions (since v4.0), but traditionally focused on single-document atomicity.\n",
    "- SQL databases are inherently transaction-oriented."
   ]
  },
  {
   "cell_type": "markdown",
   "id": "981f1f08",
   "metadata": {},
   "source": [
    "### 20. What are the main differences between capped collections and regular collections?\n",
    "- Capped collections have fixed size, preserve insertion order, and automatically overwrite oldest data when full. Regular collections grow dynamically."
   ]
  },
  {
   "cell_type": "markdown",
   "id": "b4266ddb",
   "metadata": {},
   "source": [
    "### 21. What is the purpose of the $match stage in MongoDB's aggregation pipeline?\n",
    "- `$match` filters documents to pass only those that meet the specified condition(s) to the next pipeline stage."
   ]
  },
  {
   "cell_type": "markdown",
   "id": "fa028b22",
   "metadata": {},
   "source": [
    "### 22. How can you secure access to a MongoDB database?\n",
    "- Enable authentication and create users with roles.\n",
    "- Use firewalls and IP whitelisting.\n",
    "- Use TLS for encrypted connections.\n",
    "- Regularly update and patch MongoDB."
   ]
  },
  {
   "cell_type": "markdown",
   "id": "8cd9274a",
   "metadata": {},
   "source": [
    "### 23. What is MongoDB's WiredTiger storage engine, and why is it important?\n",
    "- WiredTiger is the default storage engine. It provides document-level locking, compression, and improved concurrency and performance."
   ]
  },
  {
   "cell_type": "markdown",
   "id": "1b0b9605",
   "metadata": {},
   "source": [
    "---\n",
    "## Additional Practical Work\n",
    "---"
   ]
  },
  {
   "cell_type": "markdown",
   "id": "c44b8f6f",
   "metadata": {},
   "source": [
    "# MongoDB Assignment\n",
    "\n",
    "**Name:** Your Name Here  \n",
    "**Dataset:** Superstore Dataset\n",
    "\n",
    "---"
   ]
  },
  {
   "cell_type": "markdown",
   "id": "42180ea2",
   "metadata": {},
   "source": [
    "1. **What are the key differences between SQL and NoSQL databases?**\n",
    "\n",
    "- SQL databases are relational; NoSQL databases are non-relational.\n",
    "- SQL uses structured query language; NoSQL uses dynamic schemas.\n",
    "- SQL scales vertically; NoSQL scales horizontally.\n",
    "- SQL enforces ACID properties; NoSQL often favors availability and partition tolerance (CAP theorem).\n"
   ]
  },
  {
   "cell_type": "markdown",
   "id": "a425bd7d",
   "metadata": {},
   "source": [
    "2. **What makes MongoDB a good choice for modern applications?**\n",
    "\n",
    "- Flexible document-based schema\n",
    "- High performance and scalability\n",
    "- Rich querying and indexing features\n",
    "- Built-in replication and sharding\n",
    "- Integrates well with modern development stacks\n"
   ]
  },
  {
   "cell_type": "markdown",
   "id": "3b0084c0",
   "metadata": {},
   "source": [
    "3. **Explain the concept of collections in MongoDB.**\n",
    "\n",
    "- Collections are analogous to tables in relational databases.\n",
    "- They store documents (BSON format).\n",
    "- A collection does not enforce a schema, allowing different documents to have different fields.\n"
   ]
  },
  {
   "cell_type": "markdown",
   "id": "bec17700",
   "metadata": {},
   "source": [
    "4. **How does MongoDB ensure high availability using replication?**\n",
    "\n",
    "- Through replica sets (a group of mongod instances).\n",
    "- One primary node handles writes, and secondary nodes replicate data.\n",
    "- Automatic failover if the primary node goes down.\n"
   ]
  },
  {
   "cell_type": "markdown",
   "id": "8994aa08",
   "metadata": {},
   "source": [
    "5. **What are the main benefits of MongoDB Atlas?**\n",
    "\n",
    "- Fully managed cloud database\n",
    "- Automatic backups and updates\n",
    "- Global clusters and multi-cloud support\n",
    "- Built-in monitoring, alerting, and security features\n"
   ]
  },
  {
   "cell_type": "markdown",
   "id": "9a8adb8b",
   "metadata": {},
   "source": [
    "## Practical Questions with Code and Output"
   ]
  },
  {
   "cell_type": "code",
   "execution_count": null,
   "id": "416d039c",
   "metadata": {},
   "outputs": [],
   "source": [
    "import pandas as pd\n",
    "df = pd.read_csv('superstore.csv', encoding='ISO-8859-1')\n",
    "df.head()"
   ]
  },
  {
   "cell_type": "code",
   "execution_count": null,
   "id": "b676399a",
   "metadata": {},
   "outputs": [],
   "source": [
    "# Retrieve and print first 5 documents\n",
    "df.head()"
   ]
  },
  {
   "cell_type": "code",
   "execution_count": null,
   "id": "958700e7",
   "metadata": {},
   "outputs": [],
   "source": [
    "# Count total number of documents\n",
    "len(df)"
   ]
  },
  {
   "cell_type": "code",
   "execution_count": null,
   "id": "02e65363",
   "metadata": {},
   "outputs": [],
   "source": [
    "# Fetch all orders from the 'West' region\n",
    "df[df['Region'] == 'West']"
   ]
  },
  {
   "cell_type": "code",
   "execution_count": null,
   "id": "71835fe2",
   "metadata": {},
   "outputs": [],
   "source": [
    "# Orders where Sales is greater than 500\n",
    "df[df['Sales'] > 500]"
   ]
  },
  {
   "cell_type": "code",
   "execution_count": null,
   "id": "1d21a595",
   "metadata": {},
   "outputs": [],
   "source": [
    "# Top 3 orders with the highest Profit\n",
    "df.sort_values(by='Profit', ascending=False).head(3)"
   ]
  },
  {
   "cell_type": "code",
   "execution_count": null,
   "id": "3863e385",
   "metadata": {},
   "outputs": [],
   "source": [
    "# Update 'First Class' to 'Premium Class'\n",
    "df_updated = df.copy()\n",
    "df_updated.loc[df_updated['Ship Mode'] == 'First Class', 'Ship Mode'] = 'Premium Class'\n",
    "df_updated['Ship Mode'].value_counts()"
   ]
  },
  {
   "cell_type": "code",
   "execution_count": null,
   "id": "dd759e75",
   "metadata": {},
   "outputs": [],
   "source": [
    "# Delete all orders where Sales < 50\n",
    "df_deleted = df[df['Sales'] >= 50]\n",
    "print('Deleted records:', len(df) - len(df_deleted))\n",
    "df_deleted.head()"
   ]
  },
  {
   "cell_type": "code",
   "execution_count": null,
   "id": "9d2b32dc",
   "metadata": {},
   "outputs": [],
   "source": [
    "# Group orders by Region and calculate total sales per region\n",
    "df.groupby('Region')['Sales'].sum().reset_index()"
   ]
  },
  {
   "cell_type": "code",
   "execution_count": null,
   "id": "387679f8",
   "metadata": {},
   "outputs": [],
   "source": [
    "# Fetch all distinct Ship Mode values\n",
    "df['Ship Mode'].unique()"
   ]
  },
  {
   "cell_type": "code",
   "execution_count": null,
   "id": "a45defef",
   "metadata": {},
   "outputs": [],
   "source": [
    "# Count number of orders for each category\n",
    "df['Category'].value_counts()"
   ]
  }
 ],
 "metadata": {},
 "nbformat": 4,
 "nbformat_minor": 5
}
