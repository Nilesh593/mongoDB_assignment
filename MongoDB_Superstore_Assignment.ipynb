{
 "cells": [
  {
   "cell_type": "markdown",
   "id": "c44b8f6f",
   "metadata": {},
   "source": [
    "# MongoDB Assignment\n",
    "\n",
    "**Name:** Your Name Here  \n",
    "**Dataset:** Superstore Dataset\n",
    "\n",
    "---"
   ]
  },
  {
   "cell_type": "markdown",
   "id": "42180ea2",
   "metadata": {},
   "source": [
    "1. **What are the key differences between SQL and NoSQL databases?**\n",
    "\n",
    "- SQL databases are relational; NoSQL databases are non-relational.\n",
    "- SQL uses structured query language; NoSQL uses dynamic schemas.\n",
    "- SQL scales vertically; NoSQL scales horizontally.\n",
    "- SQL enforces ACID properties; NoSQL often favors availability and partition tolerance (CAP theorem).\n"
   ]
  },
  {
   "cell_type": "markdown",
   "id": "a425bd7d",
   "metadata": {},
   "source": [
    "2. **What makes MongoDB a good choice for modern applications?**\n",
    "\n",
    "- Flexible document-based schema\n",
    "- High performance and scalability\n",
    "- Rich querying and indexing features\n",
    "- Built-in replication and sharding\n",
    "- Integrates well with modern development stacks\n"
   ]
  },
  {
   "cell_type": "markdown",
   "id": "3b0084c0",
   "metadata": {},
   "source": [
    "3. **Explain the concept of collections in MongoDB.**\n",
    "\n",
    "- Collections are analogous to tables in relational databases.\n",
    "- They store documents (BSON format).\n",
    "- A collection does not enforce a schema, allowing different documents to have different fields.\n"
   ]
  },
  {
   "cell_type": "markdown",
   "id": "bec17700",
   "metadata": {},
   "source": [
    "4. **How does MongoDB ensure high availability using replication?**\n",
    "\n",
    "- Through replica sets (a group of mongod instances).\n",
    "- One primary node handles writes, and secondary nodes replicate data.\n",
    "- Automatic failover if the primary node goes down.\n"
   ]
  },
  {
   "cell_type": "markdown",
   "id": "8994aa08",
   "metadata": {},
   "source": [
    "5. **What are the main benefits of MongoDB Atlas?**\n",
    "\n",
    "- Fully managed cloud database\n",
    "- Automatic backups and updates\n",
    "- Global clusters and multi-cloud support\n",
    "- Built-in monitoring, alerting, and security features\n"
   ]
  },
  {
   "cell_type": "markdown",
   "id": "9a8adb8b",
   "metadata": {},
   "source": [
    "## Practical Questions with Code and Output"
   ]
  },
  {
   "cell_type": "code",
   "execution_count": null,
   "id": "416d039c",
   "metadata": {},
   "outputs": [],
   "source": [
    "import pandas as pd\n",
    "df = pd.read_csv('superstore.csv', encoding='ISO-8859-1')\n",
    "df.head()"
   ]
  },
  {
   "cell_type": "code",
   "execution_count": null,
   "id": "b676399a",
   "metadata": {},
   "outputs": [],
   "source": [
    "# Retrieve and print first 5 documents\n",
    "df.head()"
   ]
  },
  {
   "cell_type": "code",
   "execution_count": null,
   "id": "958700e7",
   "metadata": {},
   "outputs": [],
   "source": [
    "# Count total number of documents\n",
    "len(df)"
   ]
  },
  {
   "cell_type": "code",
   "execution_count": null,
   "id": "02e65363",
   "metadata": {},
   "outputs": [],
   "source": [
    "# Fetch all orders from the 'West' region\n",
    "df[df['Region'] == 'West']"
   ]
  },
  {
   "cell_type": "code",
   "execution_count": null,
   "id": "71835fe2",
   "metadata": {},
   "outputs": [],
   "source": [
    "# Orders where Sales is greater than 500\n",
    "df[df['Sales'] > 500]"
   ]
  },
  {
   "cell_type": "code",
   "execution_count": null,
   "id": "1d21a595",
   "metadata": {},
   "outputs": [],
   "source": [
    "# Top 3 orders with the highest Profit\n",
    "df.sort_values(by='Profit', ascending=False).head(3)"
   ]
  },
  {
   "cell_type": "code",
   "execution_count": null,
   "id": "3863e385",
   "metadata": {},
   "outputs": [],
   "source": [
    "# Update 'First Class' to 'Premium Class'\n",
    "df_updated = df.copy()\n",
    "df_updated.loc[df_updated['Ship Mode'] == 'First Class', 'Ship Mode'] = 'Premium Class'\n",
    "df_updated['Ship Mode'].value_counts()"
   ]
  },
  {
   "cell_type": "code",
   "execution_count": null,
   "id": "dd759e75",
   "metadata": {},
   "outputs": [],
   "source": [
    "# Delete all orders where Sales < 50\n",
    "df_deleted = df[df['Sales'] >= 50]\n",
    "print('Deleted records:', len(df) - len(df_deleted))\n",
    "df_deleted.head()"
   ]
  },
  {
   "cell_type": "code",
   "execution_count": null,
   "id": "9d2b32dc",
   "metadata": {},
   "outputs": [],
   "source": [
    "# Group orders by Region and calculate total sales per region\n",
    "df.groupby('Region')['Sales'].sum().reset_index()"
   ]
  },
  {
   "cell_type": "code",
   "execution_count": null,
   "id": "387679f8",
   "metadata": {},
   "outputs": [],
   "source": [
    "# Fetch all distinct Ship Mode values\n",
    "df['Ship Mode'].unique()"
   ]
  },
  {
   "cell_type": "code",
   "execution_count": null,
   "id": "a45defef",
   "metadata": {},
   "outputs": [],
   "source": [
    "# Count number of orders for each category\n",
    "df['Category'].value_counts()"
   ]
  }
 ],
 "metadata": {},
 "nbformat": 4,
 "nbformat_minor": 5
}