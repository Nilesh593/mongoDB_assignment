{
 "cells": [
  {
   "cell_type": "markdown",
   "id": "d166cc21",
   "metadata": {},
   "source": [
    "# MongoDB Assignment\n",
    "This notebook contains both theoretical and practical questions related to MongoDB using the Superstore dataset."
   ]
  },
  {
   "cell_type": "markdown",
   "id": "649c17f1",
   "metadata": {},
   "source": [
    "### 1. What are the key differences between SQL and NoSQL databases?\n",
    "- SQL databases are relational, use structured query language, and have fixed schemas.\n",
    "- NoSQL databases are non-relational, support dynamic schemas, and are often used for big data and real-time applications."
   ]
  },
  {
   "cell_type": "markdown",
   "id": "975b4c81",
   "metadata": {},
   "source": [
    "### 2. What makes MongoDB a good choice for modern applications?\n",
    "- Schema-less design\n",
    "- High performance and scalability\n",
    "- Built-in replication and sharding\n",
    "- Powerful querying and indexing features"
   ]
  },
  {
   "cell_type": "markdown",
   "id": "321a840b",
   "metadata": {},
   "source": [
    "### 3. Explain the concept of collections in MongoDB.\n",
    "- A collection is a group of MongoDB documents, similar to a table in SQL databases."
   ]
  },
  {
   "cell_type": "markdown",
   "id": "ce0d5d94",
   "metadata": {},
   "source": [
    "### 4. How does MongoDB ensure high availability using replication?\n",
    "- MongoDB uses replica sets where data is replicated across multiple nodes. One node acts as primary and others as secondary."
   ]
  },
  {
   "cell_type": "markdown",
   "id": "e8622062",
   "metadata": {},
   "source": [
    "### 5. What are the main benefits of MongoDB Atlas?\n",
    "- Fully managed cloud database\n",
    "- Automated backups\n",
    "- Scalability\n",
    "- Security and compliance features\n",
    "- Integrated monitoring and analytics"
   ]
  },
  {
   "cell_type": "markdown",
   "id": "76d88110",
   "metadata": {},
   "source": [
    "### 6. What is the role of indexes in MongoDB, and how do they improve performance?\n",
    "- Indexes support efficient query execution and reduce the amount of data scanned."
   ]
  },
  {
   "cell_type": "markdown",
   "id": "865753cd",
   "metadata": {},
   "source": [
    "### 7. Describe the stages of the MongoDB aggregation pipeline.\n",
    "- $match, $group, $project, $sort, $limit, $lookup, $unwind, etc., process data in a pipeline sequence."
   ]
  },
  {
   "cell_type": "markdown",
   "id": "8a08dcb0",
   "metadata": {},
   "source": [
    "### 8. What is sharding in MongoDB? How does it differ from replication?\n",
    "- Sharding distributes data across multiple servers.\n",
    "- Replication copies data for redundancy and availability."
   ]
  },
  {
   "cell_type": "markdown",
   "id": "4c6f0f0c",
   "metadata": {},
   "source": [
    "### 9. What is PyMongo, and why is it used?\n",
    "- PyMongo is the official MongoDB driver for Python to interact with MongoDB databases."
   ]
  },
  {
   "cell_type": "markdown",
   "id": "6ce585f4",
   "metadata": {},
   "source": [
    "### 10. What are the ACID properties in the context of MongoDB transactions?\n",
    "- Atomicity, Consistency, Isolation, Durability. MongoDB supports multi-document ACID transactions since v4.0."
   ]
  }
 ],
 "metadata": {},
 "nbformat": 4,
 "nbformat_minor": 5
}
